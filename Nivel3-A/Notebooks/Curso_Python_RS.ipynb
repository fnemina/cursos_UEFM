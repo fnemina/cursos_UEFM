{
 "cells": [
  {
   "cell_type": "markdown",
   "metadata": {},
   "source": [
    "# Procesamiento digital de imágenes con Python"
   ]
  },
  {
   "cell_type": "markdown",
   "metadata": {},
   "source": [
    "## Programa del curso\n",
    "\n",
    "    1. Fuentes de datos\n",
    "        - Apertura de datos raster.\n",
    "        - Apertura de datos vectoriales.\n",
    "        - Google earth-engine.\n",
    "    2. Corrección de datos raster\n",
    "        - Operaciones aritmeticas entre bandas\n",
    "        - Georreferenciación y corregistro\n",
    "        - Rotación y desplazamiento.\n",
    "        - Reproyección.\n",
    "    3. Mejoras radiométricas\n",
    "        - Realces de histograma.\n",
    "        - Operaciones monobanda.\n",
    "    4. Mejoras geométricas.\n",
    "        - Filtrado de rasters.\n",
    "        - Operaciones morfológicas.\n",
    "        - Filtros de Fourier.\n",
    "    5. Transformaciones espectrales.\n",
    "        - Análisis por PCA\n",
    "        - Tasseled CAP\n",
    "        - HSI\n",
    "        - Pansharpening\n",
    "    6. Tecnicas de clasificacion supervisada.\n",
    "        - Maximun likelihood\n",
    "        - Paralelepipedos, Mahalanobis\n",
    "        - Clasificadores no parametricos.\n",
    "        - kNN.\n",
    "        - Bagging and bootstraping.  Random Forest.\n",
    "    7. Clustering\n",
    "        - kMeans\n",
    "        - Isodata\n",
    "        - Otros métodos.\n",
    "        - Tecnicas de validacion.\n"
   ]
  },
  {
   "cell_type": "markdown",
   "metadata": {},
   "source": [
    "## Fuentes de datos"
   ]
  },
  {
   "cell_type": "code",
   "execution_count": null,
   "metadata": {},
   "outputs": [],
   "source": [
    "import "
   ]
  }
 ],
 "metadata": {
  "kernelspec": {
   "display_name": "Python [conda root]",
   "language": "python",
   "name": "conda-root-py"
  },
  "language_info": {
   "codemirror_mode": {
    "name": "ipython",
    "version": 3
   },
   "file_extension": ".py",
   "mimetype": "text/x-python",
   "name": "python",
   "nbconvert_exporter": "python",
   "pygments_lexer": "ipython3",
   "version": "3.6.3"
  }
 },
 "nbformat": 4,
 "nbformat_minor": 2
}
